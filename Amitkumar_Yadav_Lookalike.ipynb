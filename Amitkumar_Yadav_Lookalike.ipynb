{
 "cells": [
  {
   "cell_type": "code",
   "execution_count": 1,
   "id": "30a1df89-fdc7-4a9c-9693-1879192bfd1d",
   "metadata": {},
   "outputs": [],
   "source": [
    "import pandas as pd"
   ]
  },
  {
   "cell_type": "code",
   "execution_count": 3,
   "id": "24b9b9a1-99c0-4b19-adf2-0dd3b7afda94",
   "metadata": {},
   "outputs": [],
   "source": [
    "from sklearn.preprocessing import StandardScaler"
   ]
  },
  {
   "cell_type": "code",
   "execution_count": 17,
   "id": "59081b4e-db4c-4036-b61b-5e46dbad5147",
   "metadata": {},
   "outputs": [],
   "source": [
    "from sklearn.metrics.pairwise import cosine_similarity"
   ]
  },
  {
   "cell_type": "code",
   "execution_count": 18,
   "id": "24ec20e7-7795-461c-abb4-e3babf635803",
   "metadata": {},
   "outputs": [],
   "source": [
    "import matplotlib.pyplot as plt"
   ]
  },
  {
   "cell_type": "code",
   "execution_count": 19,
   "id": "8ddac750-1a2d-4c2a-90a4-10916b4e54bb",
   "metadata": {},
   "outputs": [],
   "source": [
    "# Load data"
   ]
  },
  {
   "cell_type": "code",
   "execution_count": 20,
   "id": "b17292a7-dad1-4b46-b6bd-c02f82e5c856",
   "metadata": {},
   "outputs": [],
   "source": [
    "customers = pd.read_csv(\"Customers.csv\")\n",
    "products = pd.read_csv(\"Products.csv\")\n",
    "transactions = pd.read_csv(\"Transactions.csv\")"
   ]
  },
  {
   "cell_type": "code",
   "execution_count": 21,
   "id": "16618ea0-7cb1-4fd7-9212-723045f68aff",
   "metadata": {},
   "outputs": [],
   "source": [
    "# Merge transactions with product info\n",
    "transactions = transactions.merge(products, on=\"ProductID\")"
   ]
  },
  {
   "cell_type": "code",
   "execution_count": 22,
   "id": "101c583c-b20a-423c-bf9f-3c1e183765b7",
   "metadata": {},
   "outputs": [],
   "source": [
    "# Feature Engineering for Customers"
   ]
  },
  {
   "cell_type": "code",
   "execution_count": 23,
   "id": "5130b29d-c56b-42e8-ae3e-a2ea9d3f1cb3",
   "metadata": {},
   "outputs": [],
   "source": [
    "customer_features = customers.merge(\n",
    "    transactions.groupby(\"CustomerID\").agg(\n",
    "        total_spent=(\"TotalValue\", \"sum\"),\n",
    "        avg_transaction=(\"TotalValue\", \"mean\"),\n",
    "        favorite_category=(\"Category\", lambda x: x.mode()[0])\n",
    "    ), on=\"CustomerID\"\n",
    ")\n"
   ]
  },
  {
   "cell_type": "code",
   "execution_count": 24,
   "id": "b558c043-25ab-4b52-9966-b2c43de4e229",
   "metadata": {},
   "outputs": [],
   "source": [
    "# Encode categorical features"
   ]
  },
  {
   "cell_type": "code",
   "execution_count": 25,
   "id": "cc929448-511c-4ed9-bde5-069e74dce583",
   "metadata": {},
   "outputs": [],
   "source": [
    "features = pd.get_dummies(customer_features[[\"Region\", \"total_spent\", \"avg_transaction\", \"favorite_category\"]])"
   ]
  },
  {
   "cell_type": "code",
   "execution_count": 26,
   "id": "dd26dae2-129b-4988-908b-5a2e1847be93",
   "metadata": {},
   "outputs": [],
   "source": [
    "# Normalize"
   ]
  },
  {
   "cell_type": "code",
   "execution_count": 27,
   "id": "65637ac0-c85a-4d35-a7d8-207cd7f7f05e",
   "metadata": {},
   "outputs": [],
   "source": [
    "scaler = StandardScaler()"
   ]
  },
  {
   "cell_type": "code",
   "execution_count": 28,
   "id": "48c8db62-9e17-4587-87db-a15d305dafcb",
   "metadata": {},
   "outputs": [],
   "source": [
    "scaled_features = scaler.fit_transform(features)"
   ]
  },
  {
   "cell_type": "code",
   "execution_count": 29,
   "id": "e5b9c7d4-e2a0-4baf-8608-142cd49a773f",
   "metadata": {},
   "outputs": [],
   "source": [
    "# Compute similarity"
   ]
  },
  {
   "cell_type": "code",
   "execution_count": 30,
   "id": "cbdf6381-0b58-43b1-8136-a786ba7ebf16",
   "metadata": {},
   "outputs": [],
   "source": [
    "similarity_matrix = cosine_similarity(scaled_features)"
   ]
  },
  {
   "cell_type": "code",
   "execution_count": 31,
   "id": "b643a64a-b81f-4a1a-b69d-69758de7b50f",
   "metadata": {},
   "outputs": [],
   "source": [
    "# Generat recommendations for first 20 customers"
   ]
  },
  {
   "cell_type": "code",
   "execution_count": 32,
   "id": "3a5482c2-59ff-45f4-a097-0ed81f99813c",
   "metadata": {},
   "outputs": [],
   "source": [
    "lookalike_map = {}"
   ]
  },
  {
   "cell_type": "code",
   "execution_count": 33,
   "id": "b6013586-66df-4bb4-abbd-deaddbf66036",
   "metadata": {},
   "outputs": [],
   "source": [
    "target_customers = customer_features[\"CustomerID\"].iloc[:20].tolist()"
   ]
  },
  {
   "cell_type": "code",
   "execution_count": 35,
   "id": "f7fa7dee-4b23-4144-b4cc-6bc87ec632a3",
   "metadata": {},
   "outputs": [],
   "source": [
    "for cust_id in target_customers:\n",
    "    idx = customer_features[customer_features[\"CustomerID\"] == cust_id].index[0]\n",
    "    scores = list(enumerate(similarity_matrix[idx]))\n",
    "    sorted_scores = sorted(scores, key=lambda x: x[1], reverse=True)[1:4]  # Exclude self\n",
    "    lookalike_map[cust_id] = [\n",
    "        (customer_features.iloc[i][\"CustomerID\"], round(score, 2)) \n",
    "        for i, score in sorted_scores\n",
    "    ]"
   ]
  },
  {
   "cell_type": "code",
   "execution_count": 36,
   "id": "2ad8bf24-7aab-429e-aaed-c765a96eb465",
   "metadata": {},
   "outputs": [],
   "source": [
    "# Save to CSV in file"
   ]
  },
  {
   "cell_type": "code",
   "execution_count": null,
   "id": "823252cb-e1d7-460f-95af-6bc898bb0e0d",
   "metadata": {},
   "outputs": [],
   "source": []
  }
 ],
 "metadata": {
  "kernelspec": {
   "display_name": "Python 3 (ipykernel)",
   "language": "python",
   "name": "python3"
  },
  "language_info": {
   "codemirror_mode": {
    "name": "ipython",
    "version": 3
   },
   "file_extension": ".py",
   "mimetype": "text/x-python",
   "name": "python",
   "nbconvert_exporter": "python",
   "pygments_lexer": "ipython3",
   "version": "3.13.1"
  }
 },
 "nbformat": 4,
 "nbformat_minor": 5
}
