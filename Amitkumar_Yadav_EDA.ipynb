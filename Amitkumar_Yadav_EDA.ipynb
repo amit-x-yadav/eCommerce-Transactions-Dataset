{
 "cells": [
  {
   "cell_type": "code",
   "execution_count": 5,
   "id": "e47010a4-3d25-4d1b-9f64-21183120d9d2",
   "metadata": {},
   "outputs": [],
   "source": [
    "import pandas as pd"
   ]
  },
  {
   "cell_type": "code",
   "execution_count": 6,
   "id": "a89da05a-b835-4d96-98b2-70b465af702a",
   "metadata": {},
   "outputs": [],
   "source": [
    "import matplotlib.pyplot as plt"
   ]
  },
  {
   "cell_type": "code",
   "execution_count": null,
   "id": "7b7b65d8-a63a-4632-8405-7f289a6c74b3",
   "metadata": {},
   "outputs": [],
   "source": [
    "#Loading Data"
   ]
  },
  {
   "cell_type": "code",
   "execution_count": 6,
   "id": "e5fce047-5ec3-40cd-89cb-33132b600869",
   "metadata": {},
   "outputs": [],
   "source": [
    "import matplotlib.pyplot as plt"
   ]
  },
  {
   "cell_type": "code",
   "execution_count": 7,
   "id": "1e5c9f4e-945c-42df-8851-ef5a1414e5d9",
   "metadata": {},
   "outputs": [],
   "source": [
    "customers = pd.read_csv(\"Customers.csv\")"
   ]
  },
  {
   "cell_type": "code",
   "execution_count": 8,
   "id": "f64ea06f-5d20-494a-ba64-c42977f0abd8",
   "metadata": {},
   "outputs": [],
   "source": [
    "products = pd.read_csv(\"Products.csv\")"
   ]
  },
  {
   "cell_type": "code",
   "execution_count": 9,
   "id": "7cdb4a01-218e-4a4b-b566-c8f4aa14ee69",
   "metadata": {},
   "outputs": [],
   "source": [
    "transactions = pd.read_csv(\"Transactions.csv\")"
   ]
  },
  {
   "cell_type": "code",
   "execution_count": 10,
   "id": "659c25f0-24eb-449c-8b99-8aae9e32eb90",
   "metadata": {},
   "outputs": [],
   "source": [
    "#Merging Transition with Product information "
   ]
  },
  {
   "cell_type": "code",
   "execution_count": 11,
   "id": "b37eed8f-892a-4018-8742-51cdd9792f8a",
   "metadata": {},
   "outputs": [],
   "source": [
    "transactions = transactions.merge(products, on=\"ProductID\")"
   ]
  },
  {
   "cell_type": "code",
   "execution_count": 12,
   "id": "80bcb8c6-b351-49ca-9d18-126320a3f222",
   "metadata": {},
   "outputs": [],
   "source": [
    "# Basic EDA"
   ]
  },
  {
   "cell_type": "code",
   "execution_count": 13,
   "id": "8cca770b-8632-4a4c-aa74-da7a2077a359",
   "metadata": {},
   "outputs": [
    {
     "name": "stdout",
     "output_type": "stream",
     "text": [
      "Missing Values:\n"
     ]
    }
   ],
   "source": [
    "print(\"Missing Values:\")"
   ]
  },
  {
   "cell_type": "code",
   "execution_count": 14,
   "id": "988d46a5-96a5-445d-8b89-9511acc50529",
   "metadata": {},
   "outputs": [
    {
     "name": "stdout",
     "output_type": "stream",
     "text": [
      "CustomerID      0\n",
      "CustomerName    0\n",
      "Region          0\n",
      "SignupDate      0\n",
      "dtype: int64\n"
     ]
    }
   ],
   "source": [
    "print(customers.isnull().sum())"
   ]
  },
  {
   "cell_type": "code",
   "execution_count": 15,
   "id": "29d4fef6-cbed-4c90-bd39-7a0d3bf02b3a",
   "metadata": {},
   "outputs": [
    {
     "name": "stdout",
     "output_type": "stream",
     "text": [
      "TransactionID      0\n",
      "CustomerID         0\n",
      "ProductID          0\n",
      "TransactionDate    0\n",
      "Quantity           0\n",
      "TotalValue         0\n",
      "Price_x            0\n",
      "ProductName        0\n",
      "Category           0\n",
      "Price_y            0\n",
      "dtype: int64\n"
     ]
    }
   ],
   "source": [
    "print(transactions.isnull().sum())"
   ]
  },
  {
   "cell_type": "code",
   "execution_count": 16,
   "id": "d6ead122-6e19-4c16-a5e0-b374d9c1c88e",
   "metadata": {},
   "outputs": [],
   "source": [
    "# Example Visualization: Sales by Region"
   ]
  },
  {
   "cell_type": "code",
   "execution_count": 18,
   "id": "8e9358bd-83e9-4106-91a8-fe823cf2c0c0",
   "metadata": {},
   "outputs": [],
   "source": [
    "sales_by_region = transactions.merge(customers, on=\"CustomerID\") \\\n",
    ".groupby(\"Region\")[\"TotalValue\"].sum().sort_values()"
   ]
  },
  {
   "cell_type": "code",
   "execution_count": 21,
   "id": "58d3c185-66c7-40a3-8080-174a0ba7168c",
   "metadata": {},
   "outputs": [
    {
     "data": {
      "image/png": "[encoded data removed]",
      "text/plain": [
       "<Figure size 640x480 with 1 Axes>"
      ]
     },
     "metadata": {},
     "output_type": "display_data"
    }
   ],
   "source": [
    "sales_by_region.plot(kind=\"bar\", title=\"Total Sales by Region\")\n",
    "plt.show()\n"
   ]
  }
 ],
 "metadata": {
  "kernelspec": {
   "display_name": "Python 3 (ipykernel)",
   "language": "python",
   "name": "python3"
  },
  "language_info": {
   "codemirror_mode": {
    "name": "ipython",
    "version": 3
   },
   "file_extension": ".py",
   "mimetype": "text/x-python",
   "name": "python",
   "nbconvert_exporter": "python",
   "pygments_lexer": "ipython3",
   "version": "3.13.1"
  }
 },
 "nbformat": 4,
 "nbformat_minor": 5
}
